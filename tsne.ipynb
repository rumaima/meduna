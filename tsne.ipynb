{
 "cells": [
  {
   "cell_type": "code",
   "execution_count": 11,
   "metadata": {},
   "outputs": [],
   "source": [
    "# %matplotlib agg\n",
    "\n",
    "import numpy as np \n",
    "import pickle \n",
    "import matplotlib.pyplot as plt \n",
    "import seaborn as sns \n",
    "sns.set_theme()\n",
    "from sklearn.manifold import TSNE\n",
    "import glob\n",
    "from tqdm import tqdm\n",
    "import pandas as pd"
   ]
  },
  {
   "cell_type": "code",
   "execution_count": 2,
   "metadata": {},
   "outputs": [],
   "source": [
    "colors = [\"#001219\", \"#005F73\", \"#0A9396\",  \"#94D2BD\", \"#E9D8A6\", \"#EE9B00\", \"#CA6702\", \"#BB3E03\", \"#AE2012\", \"#9B2226\" ]\n",
    "# 0 black, 1 cool grey, 2 slate grey, 3 celadon green, 4 eggshell, 5 sand, 6 nectar, 7 orange, 8 crimson red, 9 dark red \n",
    "\n",
    "# y_true, y_hat\n",
    "colcode = {\n",
    "    '00': colors[9], # true negative\n",
    "    '01': colors[7], # false positive\n",
    "    '10': colors[0], # false negative\n",
    "    '11': colors[1], # true positive\n",
    "}\n",
    "\n",
    "def genTSNEplot(filename):\n",
    "    with open(filename, 'rb') as f:\n",
    "        # Load the object from the pickle file\n",
    "        D = pickle.load(f)\n",
    "\n",
    "    N = len(D['Ytrue'])\n",
    "\n",
    "    idx_TN = [ i for i in range(N) if D['Ytrue'][i]==0 and D['Yhat'][i]==0 ]\n",
    "    idx_FP = [ i for i in range(N) if D['Ytrue'][i]==0 and D['Yhat'][i]==1 ]\n",
    "    idx_FN = [ i for i in range(N) if D['Ytrue'][i]==1 and D['Yhat'][i]==0 ]\n",
    "    idx_TP = [ i for i in range(N) if D['Ytrue'][i]==1 and D['Yhat'][i]==1 ]\n",
    "\n",
    "    tsne = TSNE(n_components=2, random_state=42)  # You can adjust n_components as per your requirement\n",
    "\n",
    "    # Fit t-SNE model to your data\n",
    "    embedded_data = tsne.fit_transform(D['Z'])\n",
    "\n",
    "    # Plot:\n",
    "    plt.figure(figsize=(9, 8))\n",
    "    plt.scatter(embedded_data[idx_TN, 0], embedded_data[idx_TN, 1], color=colcode['00'], alpha=0.5, label='TN')\n",
    "    plt.scatter(embedded_data[idx_FP, 0], embedded_data[idx_FP, 1], color=colcode['01'], alpha=0.5, label='FP')\n",
    "    plt.scatter(embedded_data[idx_FN, 0], embedded_data[idx_FN, 1], color=colcode['10'], alpha=0.5, label='FN')\n",
    "    plt.scatter(embedded_data[idx_TP, 0], embedded_data[idx_TP, 1], color=colcode['11'], alpha=0.5, label='TP')\n",
    "    plt.legend(fontsize=16)\n",
    "    plt.xticks(fontsize=18)\n",
    "    plt.yticks(fontsize=18) \n",
    "    data_idfier = filename.split('/')[-1].split('.')[0]\n",
    "    plt.title(data_idfier)\n",
    "    plt.savefig(f'./plots/{data_idfier}.pdf', dpi=300, bbox_inches='tight')\n"
   ]
  },
  {
   "cell_type": "code",
   "execution_count": 3,
   "metadata": {},
   "outputs": [
    {
     "name": "stderr",
     "output_type": "stream",
     "text": [
      "  1%|          | 1/85 [00:02<02:59,  2.14s/it]"
     ]
    },
    {
     "ename": "",
     "evalue": "",
     "output_type": "error",
     "traceback": [
      "\u001b[1;31mThe Kernel crashed while executing code in the the current cell or a previous cell. Please review the code in the cell(s) to identify a possible cause of the failure. Click <a href='https://aka.ms/vscodeJupyterKernelCrash'>here</a> for more info. View Jupyter <a href='command:jupyter.viewOutput'>log</a> for further details."
     ]
    },
    {
     "ename": "",
     "evalue": "",
     "output_type": "error",
     "traceback": [
      "\u001b[1;31mCanceled future for execute_request message before replies were done"
     ]
    }
   ],
   "source": [
    "DATA_DIR = './data/'\n",
    "file_list = glob.glob(DATA_DIR + '*.pkl')\n",
    "\n",
    "for filename in tqdm(file_list):\n",
    "    try:\n",
    "        genTSNEplot(filename)\n",
    "    except:\n",
    "        pass \n"
   ]
  },
  {
   "cell_type": "code",
   "execution_count": 26,
   "metadata": {},
   "outputs": [],
   "source": [
    "def getF1score(filename):\n",
    "    with open(filename, 'rb') as f:\n",
    "        # Load the object from the pickle file\n",
    "        D = pickle.load(f)\n",
    "    return D"
   ]
  },
  {
   "cell_type": "code",
   "execution_count": 54,
   "metadata": {},
   "outputs": [],
   "source": [
    "DATA_DIR = './pickle/'\n",
    "file_list = glob.glob(DATA_DIR + '*.pkl')\n",
    "excel_file_name = 'output.xlsx'\n",
    "f1_list = []\n",
    "for filename in file_list:\n",
    "    D = getF1score(filename)\n",
    "    file_name = filename.split('/')[-1]\n",
    "    f1_score = D['f1']\n",
    "\n",
    "    f1_list.append(f1_score)\n"
   ]
  },
  {
   "cell_type": "code",
   "execution_count": 55,
   "metadata": {},
   "outputs": [
    {
     "data": {
      "text/plain": [
       "85"
      ]
     },
     "execution_count": 55,
     "metadata": {},
     "output_type": "execute_result"
    }
   ],
   "source": [
    "len(file_list)"
   ]
  },
  {
   "cell_type": "code",
   "execution_count": 56,
   "metadata": {},
   "outputs": [
    {
     "data": {
      "text/plain": [
       "85"
      ]
     },
     "execution_count": 56,
     "metadata": {},
     "output_type": "execute_result"
    }
   ],
   "source": [
    "len(f1_list)"
   ]
  },
  {
   "cell_type": "code",
   "execution_count": 57,
   "metadata": {},
   "outputs": [
    {
     "data": {
      "text/plain": [
       "list"
      ]
     },
     "execution_count": 57,
     "metadata": {},
     "output_type": "execute_result"
    }
   ],
   "source": [
    "type(file_list)"
   ]
  },
  {
   "cell_type": "code",
   "execution_count": 61,
   "metadata": {},
   "outputs": [
    {
     "name": "stdout",
     "output_type": "stream",
     "text": [
      "                                             filename  f1_score\n",
      "0                  ./pickle/shenzhen_cxr_sup_SGD_.pkl  0.000000\n",
      "1   ./pickle/OUR_WO_CE_shenzhen_cxr_montgomery_cxr...  0.720000\n",
      "2   ./pickle/CE_only_montgomery_cxr_shenzhen_cxr_s...  0.600000\n",
      "3           ./pickle/pneumonia_guangzhou_sup_SGD_.pkl  0.000000\n",
      "4   ./pickle/CONTRASTIVE_only_covid_shenzhen_cxr_s...  0.672131\n",
      "..                                                ...       ...\n",
      "80           ./pickle/shenzhen_cxr_sup_SGD_sample.pkl  0.000000\n",
      "81  ./pickle/pneumonia_guangzhou_pneumonia_guangzh...  0.795217\n",
      "82  ./pickle/shenzhen_cxr_montgomery_cxr_sup_SGD_1...  0.000000\n",
      "83  ./pickle/CONTRASTIVE_only_montgomery_cxr_pneum...  0.856195\n",
      "84  ./pickle/shenzhen_cxr_montgomery_cxr_sup_SGD_.pkl  0.720000\n",
      "\n",
      "[85 rows x 2 columns]\n"
     ]
    }
   ],
   "source": [
    "excel_file_name = 'f1_score.xlsx'\n",
    "data = {'filename': file_list, 'f1_score': f1_list}\n",
    "df = pd.DataFrame(data)\n",
    "print(df)\n",
    "df.to_excel(excel_file_name, index=False)\n"
   ]
  },
  {
   "cell_type": "code",
   "execution_count": 60,
   "metadata": {},
   "outputs": [
    {
     "name": "stdout",
     "output_type": "stream",
     "text": [
      "Collecting openpyxl\n",
      "  Downloading openpyxl-3.1.2-py2.py3-none-any.whl.metadata (2.5 kB)\n",
      "Collecting et-xmlfile (from openpyxl)\n",
      "  Downloading et_xmlfile-1.1.0-py3-none-any.whl.metadata (1.8 kB)\n",
      "Downloading openpyxl-3.1.2-py2.py3-none-any.whl (249 kB)\n",
      "\u001b[2K   \u001b[90m━━━━━━━━━━━━━━━━━━━━━━━━━━━━━━━━━━━━━━━\u001b[0m \u001b[32m250.0/250.0 kB\u001b[0m \u001b[31m875.4 kB/s\u001b[0m eta \u001b[36m0:00:00\u001b[0ma \u001b[36m0:00:01\u001b[0m\n",
      "\u001b[?25hDownloading et_xmlfile-1.1.0-py3-none-any.whl (4.7 kB)\n",
      "Installing collected packages: et-xmlfile, openpyxl\n",
      "Successfully installed et-xmlfile-1.1.0 openpyxl-3.1.2\n"
     ]
    }
   ],
   "source": [
    "!pip install openpyxl"
   ]
  },
  {
   "cell_type": "code",
   "execution_count": null,
   "metadata": {},
   "outputs": [],
   "source": []
  }
 ],
 "metadata": {
  "kernelspec": {
   "display_name": "lafter",
   "language": "python",
   "name": "python3"
  },
  "language_info": {
   "codemirror_mode": {
    "name": "ipython",
    "version": 3
   },
   "file_extension": ".py",
   "mimetype": "text/x-python",
   "name": "python",
   "nbconvert_exporter": "python",
   "pygments_lexer": "ipython3",
   "version": "3.9.18"
  },
  "orig_nbformat": 4,
  "vscode": {
   "interpreter": {
    "hash": "7a4a7286468fbae7e63dbaa3174dba9301058d4df9987c9e77034c2db4c25650"
   }
  }
 },
 "nbformat": 4,
 "nbformat_minor": 2
}
